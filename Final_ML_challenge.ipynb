{
  "nbformat": 4,
  "nbformat_minor": 0,
  "metadata": {
    "colab": {
      "provenance": [],
      "include_colab_link": true
    },
    "kernelspec": {
      "name": "python3",
      "display_name": "Python 3"
    },
    "language_info": {
      "name": "python"
    }
  },
  "cells": [
    {
      "cell_type": "markdown",
      "metadata": {
        "id": "view-in-github",
        "colab_type": "text"
      },
      "source": [
        "<a href=\"https://colab.research.google.com/github/bdanzi/MLHackathon2023/blob/main/Final_ML_challenge.ipynb\" target=\"_parent\"><img src=\"https://colab.research.google.com/assets/colab-badge.svg\" alt=\"Open In Colab\"/></a>"
      ]
    },
    {
      "cell_type": "markdown",
      "metadata": {
        "id": "T_sjs4bo2S1s"
      },
      "source": [
        "#ML challenge\n",
        "The first part of this code merge some signal and background that has to be given to the student without the y_true!"
      ]
    },
    {
      "cell_type": "code",
      "metadata": {
        "id": "_-xuJB75d6E0",
        "colab": {
          "base_uri": "https://localhost:8080/"
        },
        "outputId": "20a74a22-3c84-48ab-d173-a602d3c3ca15"
      },
      "source": [
        "!fusermount -u drive\n",
        "!pip install uproot\n",
        "!pip install awkward\n",
        "files = {\n",
        "    \"VBF_HToZZTo4mu.root\" : \"vcLkNaCniBdKARm\",\n",
        "    \"GluGluHToZZTo4mu.root\": \"IWxhbX0BJzZpWCj\",\n",
        "    \"ZZTo4mu.root\"       : \"5ZGAWxY5xRUCqcp\",\n",
        "    #\"VBF_HToZZTo4e.root\": \"dBdaKwA13bygU8c\",\n",
        "    #\"GluGluHToZZTo4e.root\": \"2DxFLqLtjkbWFdM\",\n",
        "    #\"ZZTo4e.root\"     : \"NhAutemXTrVunU0\",\n",
        "    #\"ntuple_qqH_ZZ4mu.root\": \"s8TRNu0vUsxfhuQ\", #original ntuples of the exercise\n",
        "    #\"ntuple_bkg_ZZ4mu.root\": \"IWEoD7cYN71ewDw\"\n",
        "    }\n",
        "!rm -f *.root\n",
        "import os\n",
        "for file in files.items():\n",
        "  if not os.path.exists(file[0]):\n",
        "    b = os.system ( \"wget -O %s --no-check-certificate 'https://recascloud.ba.infn.it/index.php/s/%s/download'\" % file )\n",
        "    if b: raise IOError ( \"Error in downloading the file %s : (%s)\" % file )"
      ],
      "execution_count": 1,
      "outputs": [
        {
          "output_type": "stream",
          "name": "stdout",
          "text": [
            "fusermount: failed to unmount /content/drive: No such file or directory\n",
            "Looking in indexes: https://pypi.org/simple, https://us-python.pkg.dev/colab-wheels/public/simple/\n",
            "Collecting uproot\n",
            "  Downloading uproot-5.0.9-py3-none-any.whl (332 kB)\n",
            "\u001b[2K     \u001b[90m━━━━━━━━━━━━━━━━━━━━━━━━━━━━━━━━━━━━━━\u001b[0m \u001b[32m332.9/332.9 kB\u001b[0m \u001b[31m21.1 MB/s\u001b[0m eta \u001b[36m0:00:00\u001b[0m\n",
            "\u001b[?25hCollecting awkward>=2.0.0 (from uproot)\n",
            "  Downloading awkward-2.2.3-py3-none-any.whl (618 kB)\n",
            "\u001b[2K     \u001b[90m━━━━━━━━━━━━━━━━━━━━━━━━━━━━━━━━━━━━━━\u001b[0m \u001b[32m618.4/618.4 kB\u001b[0m \u001b[31m41.5 MB/s\u001b[0m eta \u001b[36m0:00:00\u001b[0m\n",
            "\u001b[?25hRequirement already satisfied: numpy in /usr/local/lib/python3.10/dist-packages (from uproot) (1.22.4)\n",
            "Requirement already satisfied: packaging in /usr/local/lib/python3.10/dist-packages (from uproot) (23.1)\n",
            "Collecting awkward-cpp==17 (from awkward>=2.0.0->uproot)\n",
            "  Downloading awkward_cpp-17-cp310-cp310-manylinux_2_17_x86_64.manylinux2014_x86_64.whl (1.0 MB)\n",
            "\u001b[2K     \u001b[90m━━━━━━━━━━━━━━━━━━━━━━━━━━━━━━━━━━━━━━━━\u001b[0m \u001b[32m1.0/1.0 MB\u001b[0m \u001b[31m57.4 MB/s\u001b[0m eta \u001b[36m0:00:00\u001b[0m\n",
            "\u001b[?25hRequirement already satisfied: typing-extensions>=4.1.0 in /usr/local/lib/python3.10/dist-packages (from awkward>=2.0.0->uproot) (4.5.0)\n",
            "Installing collected packages: awkward-cpp, awkward, uproot\n",
            "Successfully installed awkward-2.2.3 awkward-cpp-17 uproot-5.0.9\n",
            "Looking in indexes: https://pypi.org/simple, https://us-python.pkg.dev/colab-wheels/public/simple/\n",
            "Requirement already satisfied: awkward in /usr/local/lib/python3.10/dist-packages (2.2.3)\n",
            "Requirement already satisfied: awkward-cpp==17 in /usr/local/lib/python3.10/dist-packages (from awkward) (17)\n",
            "Requirement already satisfied: numpy>=1.17.0 in /usr/local/lib/python3.10/dist-packages (from awkward) (1.22.4)\n",
            "Requirement already satisfied: packaging in /usr/local/lib/python3.10/dist-packages (from awkward) (23.1)\n",
            "Requirement already satisfied: typing-extensions>=4.1.0 in /usr/local/lib/python3.10/dist-packages (from awkward) (4.5.0)\n"
          ]
        }
      ]
    },
    {
      "cell_type": "code",
      "metadata": {
        "id": "XXNHRSwKioE4"
      },
      "source": [
        "#import libraries\n",
        "import uproot\n",
        "import numpy as np\n",
        "import pandas as pd\n",
        "import h5py\n",
        "import seaborn as sns\n",
        "import matplotlib.pyplot as plt\n",
        "\n",
        "from sklearn.utils import shuffle\n",
        "from sklearn.model_selection import train_test_split\n",
        "from sklearn.datasets import make_classification\n",
        "\n",
        "import tensorflow as tf\n",
        "from tensorflow import keras\n",
        "from tensorflow.keras.models import Sequential, Model\n",
        "from tensorflow.keras.optimizers import SGD, Adam, RMSprop, Adagrad, Adadelta\n",
        "from tensorflow.keras.layers import Input, Activation, Dense, Dropout\n",
        "from tensorflow.keras.callbacks import EarlyStopping, ReduceLROnPlateau, ModelCheckpoint\n",
        "from tensorflow.keras import utils\n",
        "from tensorflow import random as tf_random\n",
        "from keras.utils import plot_model\n",
        "import random as python_random\n",
        "from sklearn.metrics import ConfusionMatrixDisplay,confusion_matrix,accuracy_score , precision_score , recall_score , precision_recall_curve , roc_curve, auc , roc_auc_score\n"
      ],
      "execution_count": 2,
      "outputs": []
    },
    {
      "cell_type": "code",
      "metadata": {
        "colab": {
          "base_uri": "https://localhost:8080/"
        },
        "id": "BMPQmW5wgU0P",
        "outputId": "91c06ef8-16ec-4637-81aa-5c20547e9178"
      },
      "source": [
        "\n",
        "# Fix random seed for reproducibility\n",
        "\n",
        "# The below is necessary for starting Numpy generated random numbers\n",
        "# in a well-defined initial state.\n",
        "seed = 7\n",
        "np.random.seed(seed)\n",
        "\n",
        "# The below is necessary for starting core Python generated random numbers\n",
        "# in a well-defined state.\n",
        "python_random.seed(seed)\n",
        "\n",
        "# The below set_seed() will make random number generation\n",
        "# in the TensorFlow backend have a well-defined initial state.\n",
        "# For further details, see: https://www.tensorflow.org/api_docs/python/tf/random/set_seed\n",
        "tf_random.set_seed(seed)\n",
        "\n",
        "# Defying what is background and signal we are interested in\n",
        "\n",
        "treename = 'HZZ4LeptonsAnalysisReduced'\n",
        "filename = {}\n",
        "upfile = {}\n",
        "params = {}\n",
        "df = {}\n",
        "\n",
        "filename['sig'] = 'VBF_HToZZTo4mu.root'\n",
        "filename['bkg_ggHtoZZto4mu'] = 'GluGluHToZZTo4mu.root'\n",
        "filename['bkg_ZZto4mu'] = 'ZZTo4mu.root'\n",
        "#filename['sig'] = 'VBF_HToZZTo4e.root'\n",
        "#filename['bkg_ggHtoZZto4e'] = 'GluGluHToZZTo4e.root'\n",
        "#filename['bkg_ZZto4e'] = 'ZZTo4e.root'\n",
        "\n",
        "#filename['sig'] = 'ntuple_bkg_ZZ4mu.root'\n",
        "#filename['bkg'] = 'ntuple_qqH_ZZ4mu.root'\n",
        "\n",
        "#Using these if you are using your mounted drive\n",
        "#filename['sig'] = base_dir+'Data/ntuple_qqH_ZZ4mu.root'\n",
        "#filename['bkg'] = base_dir+'Data/ntuple_bkg_ZZ4mu.root'\n",
        "#filename['sig'] = base_dir+'Data/output_VBF_HToZZTo4L_M125_13TeV_powheg2_JHUGenV7011_pythia8.root' #qqH->ZZ->4l 2018 ntuples\n",
        "#filename['bkg'] = base_dir+'Data/output_ZZJJTo4L_EWK_TuneCP5_13TeV-madgraph-pythia8.root'\n",
        "#filename['bkg'] = base_dir+'Data/output_GluGluToContinToZZTo4mu_13TeV_MCFM701_pythia8.root'\n",
        "#filename['bkg_ggH'] = base_dir+'Data/output_GluGluHToZZTo4L_M125_13TeV_powheg2_minloHJJ_JHUGenV7011_pythia8.root'\n",
        "#filename['bkg_ZZto4L'] = base_dir+'Data/output_ZZTo4L_TuneCP5_13TeV_powheg_pythia8.root'\n",
        "\n",
        "\n",
        "# Variables from Root Tree that must be copyed to PANDA dataframe (df)\n",
        "VARS = [ 'f_run', 'f_event', 'f_weight', \\\n",
        "        'f_massjj', 'f_deltajj', 'f_mass4l', 'f_Z1mass' , 'f_Z2mass', \\\n",
        "        'f_lept1_pt','f_lept1_eta','f_lept1_phi', \\\n",
        "        'f_lept2_pt','f_lept2_eta','f_lept2_phi', \\\n",
        "        'f_lept3_pt','f_lept3_eta','f_lept3_phi', \\\n",
        "        'f_lept4_pt','f_lept4_eta','f_lept4_phi', \\\n",
        "        'f_jet1_pt','f_jet1_eta','f_jet1_phi', \\\n",
        "        'f_jet2_pt','f_jet2_eta','f_jet2_phi' ]\n",
        "\n",
        "#checking the dimensions of the df\n",
        "NDIM = len(VARS)\n",
        "#26 variables\n",
        "print(\"Number of kinematic variables imported from the ROOT files = %d\"% NDIM)\n",
        "\n",
        "upfile['sig'] = uproot.open(filename['sig'])\n",
        "upfile['bkg_ggHtoZZto4mu'] = uproot.open(filename['bkg_ggHtoZZto4mu'])\n",
        "upfile['bkg_ZZto4mu'] = uproot.open(filename['bkg_ZZto4mu'])\n",
        "#Define the signal and bkg before applying physical requirement\n",
        "\n",
        "df['sig'] = pd.DataFrame(upfile['sig'][treename].arrays(VARS, library=\"np\"),columns=VARS)\n",
        "print(df['sig'].shape)\n",
        "\n",
        "\n",
        "df['bkg_ggHtoZZto4mu'] = pd.DataFrame(upfile['bkg_ggHtoZZto4mu'][treename].arrays(VARS, library=\"np\"),columns=VARS)\n",
        "df['bkg_ZZto4mu'] = pd.DataFrame(upfile['bkg_ZZto4mu'][treename].arrays(VARS, library=\"np\"),columns=VARS)\n",
        "df['bkg']= pd.concat([df['bkg_ZZto4mu'],df['bkg_ggHtoZZto4mu']])\n",
        "\n",
        "# Remove undefined variable entries VARS[i] <= -999\n",
        "\n",
        "for i in range(NDIM):\n",
        "    df['sig'] = df['sig'][(df['sig'][VARS[i]] > -999)]\n",
        "    df['bkg']= df['bkg'][(df['bkg'][VARS[i]] > -999)]\n",
        "\n",
        "# Add the columnisSignal to the dataframe containing the truth information\n",
        "#i.e. it tells if that particular event is signal (isSignal=1) or background (isSignal=0)\n",
        "\n",
        "df['sig']['isSignal'] = np.ones(len(df['sig']))\n",
        "df['bkg']['isSignal'] = np.zeros(len(df['bkg']))\n",
        "print(\"Number of Signal events = %d \" %len(df['sig']['isSignal']))\n",
        "print(\"Number of Background events = %d \" %len(df['bkg']['isSignal']))\n",
        "\n",
        "\n",
        "# Renormalizes the events weights to give unit sum in the signal and background dataframes\n",
        "\n",
        "\n",
        "df['sig']['f_weight']=df['sig']['f_weight']/df['sig']['f_weight'].sum(axis=0)\n",
        "df['bkg']['f_weight']=df['bkg']['f_weight']/df['bkg']['f_weight'].sum(axis=0)\n",
        "\n",
        "print(\"Number SIG events=\", len(df['sig']['f_weight']))\n",
        "print(\"Number BKG events=\", len(df['bkg']['f_weight']))\n",
        "\n",
        "# Concatenate the signal and background dfs in a single data frame\n",
        "df_all = pd.concat([df['sig'],df['bkg']])\n",
        "\n",
        "# Random shuffles the data set to mix signal and background events before the splitting between train and test samples\n",
        "df_all = shuffle(df_all)\n",
        "\n"
      ],
      "execution_count": 3,
      "outputs": [
        {
          "output_type": "stream",
          "name": "stdout",
          "text": [
            "Number of kinematic variables imported from the ROOT files = 26\n",
            "(44906, 26)\n",
            "Number of Signal events = 28381 \n",
            "Number of Background events = 136179 \n",
            "Number SIG events= 28381\n",
            "Number BKG events= 136179\n"
          ]
        }
      ]
    },
    {
      "cell_type": "code",
      "metadata": {
        "id": "i7ik9F3Dg2FR",
        "colab": {
          "base_uri": "https://localhost:8080/"
        },
        "outputId": "708f89d7-be93-45ed-96ad-63b0e05ee1d5"
      },
      "source": [
        "# Filter dataframe leaving just NN and RF input variables\n",
        "\n",
        "#NN_VARS= ['f_massjj', 'f_deltajj', 'f_mass4l', 'f_Z1mass' , 'f_Z2mass']\n",
        "NN_VARS = [ 'f_lept1_pt','f_lept1_eta','f_lept1_phi', \\\n",
        "          'f_lept2_pt','f_lept2_eta','f_lept2_phi', \\\n",
        "          'f_lept3_pt','f_lept3_eta','f_lept3_phi', \\\n",
        "          'f_lept4_pt','f_lept4_eta','f_lept4_phi', \\\n",
        "          'f_jet1_pt','f_jet1_eta','f_jet1_phi', \\\n",
        "          'f_jet2_pt','f_jet2_eta','f_jet2_phi']\n",
        "\n",
        "df_input  = df_all.filter(NN_VARS)\n",
        "df_target = df_all.filter(['isSignal']) #flag\n",
        "df_weights = df_all.filter(['f_weight']) #the weights are also important to give as input to the training\n",
        "\n",
        "# Transform dataframes to numpy arrays of float32 (X->NN input , Y->NN target output , W-> event weights)\n",
        "\n",
        "NINPUT=len(NN_VARS)\n",
        "print(\"Number NN input variables=\",NINPUT)\n",
        "print(\"NN input variables=\",NN_VARS)\n",
        "X  = np.asarray( df_input.values ).astype(np.float32)\n",
        "Y  = np.asarray( df_target.values ).astype(np.float32)\n",
        "W  = np.asarray( df_weights.values ).astype(np.float32)\n",
        "print(X.shape)\n",
        "print(Y.shape)\n",
        "print(W.shape)\n",
        "print('\\n')\n"
      ],
      "execution_count": 4,
      "outputs": [
        {
          "output_type": "stream",
          "name": "stdout",
          "text": [
            "Number NN input variables= 18\n",
            "NN input variables= ['f_lept1_pt', 'f_lept1_eta', 'f_lept1_phi', 'f_lept2_pt', 'f_lept2_eta', 'f_lept2_phi', 'f_lept3_pt', 'f_lept3_eta', 'f_lept3_phi', 'f_lept4_pt', 'f_lept4_eta', 'f_lept4_phi', 'f_jet1_pt', 'f_jet1_eta', 'f_jet1_phi', 'f_jet2_pt', 'f_jet2_eta', 'f_jet2_phi']\n",
            "(164560, 18)\n",
            "(164560, 1)\n",
            "(164560, 1)\n",
            "\n",
            "\n"
          ]
        }
      ]
    },
    {
      "cell_type": "code",
      "metadata": {
        "id": "A6rmJtw757CR",
        "colab": {
          "base_uri": "https://localhost:8080/",
          "height": 53
        },
        "outputId": "3683bc0b-5b9c-44db-9fb7-b6f64747b722"
      },
      "source": [
        "from google.colab import files\n",
        "df_input.to_csv('input.csv')\n",
        "files.download('input.csv')\n",
        "print('DONE!')"
      ],
      "execution_count": 5,
      "outputs": [
        {
          "output_type": "display_data",
          "data": {
            "text/plain": [
              "<IPython.core.display.Javascript object>"
            ],
            "application/javascript": [
              "\n",
              "    async function download(id, filename, size) {\n",
              "      if (!google.colab.kernel.accessAllowed) {\n",
              "        return;\n",
              "      }\n",
              "      const div = document.createElement('div');\n",
              "      const label = document.createElement('label');\n",
              "      label.textContent = `Downloading \"${filename}\": `;\n",
              "      div.appendChild(label);\n",
              "      const progress = document.createElement('progress');\n",
              "      progress.max = size;\n",
              "      div.appendChild(progress);\n",
              "      document.body.appendChild(div);\n",
              "\n",
              "      const buffers = [];\n",
              "      let downloaded = 0;\n",
              "\n",
              "      const channel = await google.colab.kernel.comms.open(id);\n",
              "      // Send a message to notify the kernel that we're ready.\n",
              "      channel.send({})\n",
              "\n",
              "      for await (const message of channel.messages) {\n",
              "        // Send a message to notify the kernel that we're ready.\n",
              "        channel.send({})\n",
              "        if (message.buffers) {\n",
              "          for (const buffer of message.buffers) {\n",
              "            buffers.push(buffer);\n",
              "            downloaded += buffer.byteLength;\n",
              "            progress.value = downloaded;\n",
              "          }\n",
              "        }\n",
              "      }\n",
              "      const blob = new Blob(buffers, {type: 'application/binary'});\n",
              "      const a = document.createElement('a');\n",
              "      a.href = window.URL.createObjectURL(blob);\n",
              "      a.download = filename;\n",
              "      div.appendChild(a);\n",
              "      a.click();\n",
              "      div.remove();\n",
              "    }\n",
              "  "
            ]
          },
          "metadata": {}
        },
        {
          "output_type": "display_data",
          "data": {
            "text/plain": [
              "<IPython.core.display.Javascript object>"
            ],
            "application/javascript": [
              "download(\"download_4d4025bb-16c6-41b9-85ab-998038b5860b\", \"input.csv\", 31560438)"
            ]
          },
          "metadata": {}
        },
        {
          "output_type": "stream",
          "name": "stdout",
          "text": [
            "DONE!\n"
          ]
        }
      ]
    },
    {
      "cell_type": "markdown",
      "metadata": {
        "id": "GtYYdpII4h3Y"
      },
      "source": [
        "#Second part: analysis of student answer"
      ]
    },
    {
      "cell_type": "code",
      "metadata": {
        "id": "jvqcr-43wN0a",
        "colab": {
          "base_uri": "https://localhost:8080/"
        },
        "outputId": "b78b6c63-2912-4b8e-bece-5355673a0878"
      },
      "source": [
        "\n",
        "files = {\n",
        "    \"Group_5_answer.csv\": \"goGHJP2HzrWCmTU\",\n",
        "    }\n",
        "!rm -f *.root\n",
        "import os\n",
        "for file in files.items():\n",
        "  if not os.path.exists(file[0]):\n",
        "    b = os.system ( \"wget -O %s --no-check-certificate 'https://recascloud.ba.infn.it/index.php/s/%s/download'\" % file )\n",
        "    if b: raise IOError ( \"Error in downloading the file %s : (%s)\" % file )\n",
        "\n",
        "filename = {}\n",
        "\n",
        "df_challenge = {}\n",
        "df_answer = {}\n",
        "#Define the signal and bkg before applying physical requirement\n",
        "\n",
        "\n",
        "filename['answer1'] = 'Group_5_answer.csv'\n",
        "df_answer['answer1']  = pd.read_csv(filename['answer1'])\n",
        "\n",
        "print(df_answer['answer1'].shape)\n",
        "Y_prediction = df_answer['answer1'].filter('0')\n",
        "print(Y_prediction)"
      ],
      "execution_count": 6,
      "outputs": [
        {
          "output_type": "stream",
          "name": "stdout",
          "text": [
            "(164560, 2)\n",
            "                   0\n",
            "0       2.819710e-05\n",
            "1       2.776217e-01\n",
            "2       1.710057e-04\n",
            "3       1.609763e-09\n",
            "4       4.671592e-01\n",
            "...              ...\n",
            "164555  8.107454e-03\n",
            "164556  5.528033e-04\n",
            "164557  2.459846e-01\n",
            "164558  2.307401e-05\n",
            "164559  8.271962e-01\n",
            "\n",
            "[164560 rows x 1 columns]\n"
          ]
        }
      ]
    },
    {
      "cell_type": "code",
      "metadata": {
        "id": "kkbwTjTLyxCZ"
      },
      "source": [
        "fpr, tpr, thresholds = roc_curve( y_true= Y,  y_score= Y_prediction, sample_weight=W )\n",
        "roc_auc = auc(fpr, tpr)"
      ],
      "execution_count": 7,
      "outputs": []
    },
    {
      "cell_type": "code",
      "metadata": {
        "id": "xgkCEzW90Ck7",
        "colab": {
          "base_uri": "https://localhost:8080/",
          "height": 472
        },
        "outputId": "bcddc8a1-a630-4ed4-d079-cc4f13ec4a01"
      },
      "source": [
        "plt.plot(fpr, tpr, color='magenta', label='NN AUC_test = %.4f' % (roc_auc))\n",
        "plt.plot([0, 1], [0, 1], linestyle='--', color='k', label='random chance')\n",
        "plt.xlim([0, 1.0]) #fpr\n",
        "plt.ylim([0, 1.0]) #tpr\n",
        "plt.xlabel('False Positive Rate(FPR)')\n",
        "plt.ylabel('True Positive Rate(TPR)')\n",
        "plt.title('Receiver Operating Characteristic (ROC)',fontsize=12,fontweight='bold', color='r')\n",
        "plt.legend(loc=\"lower right\")\n",
        "plt.show()\n"
      ],
      "execution_count": 8,
      "outputs": [
        {
          "output_type": "display_data",
          "data": {
            "text/plain": [
              "<Figure size 640x480 with 1 Axes>"
            ],
            "image/png": "[encoded data removed]"
          },
          "metadata": {}
        }
      ]
    },
    {
      "cell_type": "code",
      "metadata": {
        "id": "Z3ASoyJD0z5R",
        "colab": {
          "base_uri": "https://localhost:8080/"
        },
        "outputId": "a358e837-ed18-4f94-dea7-11370c3e3cde"
      },
      "source": [
        "print('Answer student: %s' % filename['answer1'])\n",
        "print('AUC score = %.4f' % (roc_auc))"
      ],
      "execution_count": 9,
      "outputs": [
        {
          "output_type": "stream",
          "name": "stdout",
          "text": [
            "Answer student: Group_5_answer.csv\n",
            "AUC score = 0.5002\n"
          ]
        }
      ]
    }
  ]
}